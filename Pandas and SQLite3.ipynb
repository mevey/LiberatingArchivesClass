{
 "cells": [
  {
   "cell_type": "code",
   "execution_count": 4,
   "metadata": {},
   "outputs": [],
   "source": [
    "import pandas as pd\n",
    "import sqlite3\n",
    "\n",
    "con = sqlite3.connect(\"database.db\")\n",
    "\n",
    "df = pd.DataFrame({\n",
    "    'name' : ['Pratibha', 'Zane', 'Anne', 'Amal', 'Yuhan', 'Austin', 'Inderpal', 'Avena'],\n",
    "     'favorite_number' : [3,6,3,4,6,7,1,10]\n",
    "    })\n",
    "\n",
    "# Write the new DataFrame to a new SQLite table\n",
    "df.to_sql(\"favorite_number\", con, if_exists=\"replace\")\n",
    "\n",
    "df = pd.DataFrame({\n",
    "    'name' : ['Pratibha', 'Zane', 'Anne', 'Amal', 'Yuhan', 'Austin', 'Inderpal', 'Avena'],\n",
    "     'favorite_color' : ['yellow', 'green', 'blue', 'magenta', 'indigo', 'yellow', 'blue', 'tan']\n",
    "    })\n",
    "\n",
    "# Write the new DataFrame to a new SQLite table\n",
    "df.to_sql(\"favorite_color\", con, if_exists=\"replace\")\n"
   ]
  },
  {
   "cell_type": "raw",
   "metadata": {},
   "source": [
    "This creates two tables in our database\n",
    "\n",
    "Now use SQLite3 Command Line Interface to see if the data was saved correctly."
   ]
  },
  {
   "cell_type": "raw",
   "metadata": {},
   "source": [
    ">>sqlite3\n",
    "\n",
    "Then open your database\n",
    "> .open database.db\n",
    "\n",
    "Show which database this is\n",
    "> .databases\n",
    "\n",
    "Show which tables exist\n",
    "> .tables\n",
    "\n",
    "Show the schema of the tables\n",
    "> .schema\n",
    "\n",
    "Select all from favorite_number\n",
    "> select * from favorite_number;\n"
   ]
  },
  {
   "cell_type": "code",
   "execution_count": null,
   "metadata": {},
   "outputs": [],
   "source": []
  }
 ],
 "metadata": {
  "kernelspec": {
   "display_name": "Python 3",
   "language": "python",
   "name": "python3"
  },
  "language_info": {
   "codemirror_mode": {
    "name": "ipython",
    "version": 3
   },
   "file_extension": ".py",
   "mimetype": "text/x-python",
   "name": "python",
   "nbconvert_exporter": "python",
   "pygments_lexer": "ipython3",
   "version": "3.7.0"
  }
 },
 "nbformat": 4,
 "nbformat_minor": 2
}
