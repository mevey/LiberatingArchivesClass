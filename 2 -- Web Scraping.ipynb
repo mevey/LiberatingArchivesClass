{
 "cells": [
  {
   "cell_type": "markdown",
   "metadata": {},
   "source": [
    "# Phase I: Gathering your Documents Together\n",
    "\n",
    "### Learning goals\n",
    "In this section, we will learn how to program a computer to do what many of us have done plenty of times before: download files from the internet.\n",
    "\n",
    "Libraries and archives around the world are going digital, making it possible for anyone with an internet connection to search through their holdings, find interesting documents, download them, and read them on their computer. Growing digitization increases our access to the world's knowledge at a rapid clip.\n",
    "\n",
    "Imagine you are a researcher who is searching not just for the contents of one particular document, but who wants to enlist the help of a computer to read thousands of documents at once. With today's text analysis tools, researchers can uncover patterns of human behavior across all those documents by pulling them together in one place where a computer can read them all at once.\n",
    "\n",
    "The good news is: we already know how to find and download documents from the internet. Most of us do it at least a few times a week. We go to a website, scroll to a link, click, scroll to another link, click, and then click on a 'file download' button. The file appears at the bottom of our browser window, we double-click it, and it pops up into a window as a PDF, as a Microsoft Word file, or as a text file. No problem! \n",
    "\n",
    "The bad news is: it takes us about 20-30 seconds of pointing and clicking to download a single file ... and we want to download thousands of files.\n",
    "\n",
    "But there is more good news: with today's freely available technology, it is rather easy to program a computer to do all of this pointing and clicking for us. And that is precisely what you will learn in this section! You will teach your computer to literally take over your web browser and navigate through the site as you would navigate it yourself - just at greater speed and with greater persistence. This is a task generally known as \"web scraping\" where you collect text or files from a webpage and store them on your hard drive. \n"
   ]
  },
  {
   "cell_type": "markdown",
   "metadata": {},
   "source": [
    "##  Let your computer browse the web\n",
    "\n",
    "<i>[NOTE: This section of the tutorial will only work when using this notebook on your local machine. To work, Selenium and the relevant <a href=\"https://selenium-python.readthedocs.io/installation.html\" target=\"_blank\">webdriver</a> have to be properly installed in advance.]</i>\n",
    "\n",
    "Now that we know all about giving directions, it is time to let your computer browse the web. This section introduces the Selenium package. Originally designed to test new website, the Selenium package allows you to control your web browser without moving your mouse or touching your keyboard. Instead, the program navigates the site based on the XPath directions introduced above.\n",
    "\n",
    "The introduction to Selenium remains very close to the goals of this tutorial. Please see the package's <a href=\"https://selenium-python.readthedocs.io/\" target=\"_blank\">documentation</a> for more information. Furthermore, specific tutorials can be found easily online as the Selenium package is very popular among Python users. "
   ]
  },
  {
   "cell_type": "markdown",
   "metadata": {},
   "source": [
    "#### Browser setup\n",
    "\n",
    "Before letting it navigate the web, we have to award additional abilities to our program. When we want our smartphone to learn a new trick, we install a new app. In Python, our programming language, the equivalent of installing an app is loading a module. \n",
    "\n",
    "For what we want to do in this tutorial, we will have to load four modules. Our program uses the Operating System module (\"os\") which allows the program to work on your hard drive, the urllib module (\"urllib\") to collect text from a webpage, and the Selenium module (\"selenium\") to mimic the user's click routine on the page. Finally, we use a module called \"time\" to allow our program to take short breaks when we want it to wait before browsing on."
   ]
  },
  {
   "cell_type": "code",
   "execution_count": 1,
   "metadata": {
    "scrolled": true
   },
   "outputs": [],
   "source": [
    "import os\n",
    "import urllib\n",
    "import requests\n",
    "from selenium import webdriver\n",
    "from selenium.webdriver.common.keys import Keys\n",
    "from time import sleep"
   ]
  },
  {
   "cell_type": "markdown",
   "metadata": {},
   "source": [
    "#### Starting the browser\n",
    "\n",
    "With these modules in memory, our program is now ready to start browsing. The first step is to open a browser. In our example, we will browse the web using Mozilla Firefox. However, Selenium works on most popular browsers.\n",
    "\n",
    "Our computer does not have its own mouse or keyboard with which it could open a new browser window. Instead, what Selenium uses is a so-called \"webdriver\". A webdriver basically opens the channel between our program and the browser installed on your computer.\n",
    "\n",
    "To ask the webdriver to open up Chrome, all we need is:"
   ]
  },
  {
   "cell_type": "code",
   "execution_count": 3,
   "metadata": {},
   "outputs": [
    {
     "data": {
      "text/plain": [
       "<selenium.webdriver.chrome.webdriver.WebDriver (session=\"9cef027801999909bdfb9480714c0b29\")>"
      ]
     },
     "execution_count": 3,
     "metadata": {},
     "output_type": "execute_result"
    }
   ],
   "source": [
    "path_to_driver = 'C:/Users/mutho/Downloads/chromedriver_win32/chromedriver.exe'\n",
    "webdriver.Chrome(path_to_driver) #Path to your Chrome driver"
   ]
  },
  {
   "cell_type": "markdown",
   "metadata": {},
   "source": [
    "\n",
    "To open a Firefox window, the command is almost identical:"
   ]
  },
  {
   "cell_type": "code",
   "execution_count": null,
   "metadata": {
    "collapsed": true
   },
   "outputs": [],
   "source": [
    "webdriver.Firefox() #Add the path to your firefox driver"
   ]
  },
  {
   "cell_type": "markdown",
   "metadata": {},
   "source": [
    "Please close both browser windows manually again. \n",
    "\n",
    "The promise of this tutorial was that the computer would browse the web without your interaction. Yet, you were just asked to close two browser windows. Not to worry, the program can also close browser windows (or open new tabs and the like). However, for it to be able to do that, we have to give the browser window a name. Once it has a name, we can tell the program which browser window to work on. \n",
    "\n",
    "To see this, please run the following code. What will happen is that a new Chrome window opens. We call this window \"my_chrome\". The programm will then wait for 5 seconds before it closes the \"my_chrome\"-window again."
   ]
  },
  {
   "cell_type": "code",
   "execution_count": 3,
   "metadata": {},
   "outputs": [],
   "source": [
    "my_chrome = webdriver.Chrome(path_to_driver)\n",
    "sleep(5)\n",
    "my_chrome.close()"
   ]
  },
  {
   "cell_type": "markdown",
   "metadata": {},
   "source": [
    "#### Basic navigation\n",
    "\n",
    "So far, so spooky. Now let's have the programme go to our GPO website. \n",
    "\n",
    "First, we open a new browser window again:"
   ]
  },
  {
   "cell_type": "code",
   "execution_count": 14,
   "metadata": {},
   "outputs": [],
   "source": [
    "gpo=webdriver.Chrome(path_to_driver)"
   ]
  },
  {
   "cell_type": "markdown",
   "metadata": {},
   "source": [
    "Now, we tell the programme to get the GPO's link into that browser window:"
   ]
  },
  {
   "cell_type": "code",
   "execution_count": 15,
   "metadata": {},
   "outputs": [],
   "source": [
    "gpo.get(\"http://www.gpo.gov/fdsys/browse/collection.action?collectionCode=CHRG\")"
   ]
  },
  {
   "cell_type": "markdown",
   "metadata": {},
   "source": [
    "<b>Your turn:</b><br>Let the browser now move to a website of your choice:"
   ]
  },
  {
   "cell_type": "code",
   "execution_count": 7,
   "metadata": {},
   "outputs": [],
   "source": [
    "gpo.get(\"\")"
   ]
  },
  {
   "cell_type": "markdown",
   "metadata": {},
   "source": [
    "Getting to a page is nice, but we also want to interact with that page. Recall that the browser sees this page as a series of tags. Selenium refers to these tags as \"elements\" on the page. What we have to do then is direct the program at the page element we want to interact with. This is where the XPath language we learnt above comes in. But before we get back to that, let's look at a more intuitive way to interact.\n",
    "\n",
    "In Selenium, it's not strictly necessary to know each and every element by its XPath. While XPath is the most precise way to get where want, there are less general, but more user-friendly ways as well. For instance, the Selenium package includes a function that searches the webpage for elements containing a certain piece of text. \n",
    "\n",
    "Say, I want to start browsing the Hearings of the 155th Congress. First, let's return to that page again:"
   ]
  },
  {
   "cell_type": "code",
   "execution_count": 31,
   "metadata": {},
   "outputs": [],
   "source": [
    "gpo.get(\"http://www.gpo.gov/fdsys/browse/collection.action?collectionCode=CHRG\")"
   ]
  },
  {
   "cell_type": "markdown",
   "metadata": {},
   "source": [
    "To locate the link we want to click on, we have to supply a unique piece of text to the programme. Let's use \"115th Congress\". \n",
    "\n",
    "We also want to store the location of this element so we can use it in later commands. The logic is the same as with naming our browser window \"my_fox\" or \"gpo\". Once we assign a name to the element, we can ask the program to use it in later applications. For this example, we call the location \"congress_115\"."
   ]
  },
  {
   "cell_type": "code",
   "execution_count": 32,
   "metadata": {},
   "outputs": [],
   "source": [
    "congress_115=gpo.find_element_by_partial_link_text(\"115th Congress\")"
   ]
  },
  {
   "cell_type": "markdown",
   "metadata": {},
   "source": [
    "Now that the program knows element, why not have it click on it?"
   ]
  },
  {
   "cell_type": "code",
   "execution_count": 33,
   "metadata": {},
   "outputs": [],
   "source": [
    "congress_115.click()"
   ]
  },
  {
   "cell_type": "markdown",
   "metadata": {},
   "source": [
    "And let's go look at the Hearings."
   ]
  },
  {
   "cell_type": "code",
   "execution_count": 34,
   "metadata": {},
   "outputs": [
    {
     "ename": "NoSuchElementException",
     "evalue": "Message: no such element: Unable to locate element: {\"method\":\"partial link text\",\"selector\":\"House Hearings\"}\n  (Session info: chrome=69.0.3497.100)\n  (Driver info: chromedriver=2.42.591088 (7b2b2dca23cca0862f674758c9a3933e685c27d5),platform=Windows NT 10.0.17134 x86_64)\n",
     "output_type": "error",
     "traceback": [
      "\u001b[1;31m---------------------------------------------------------------------------\u001b[0m",
      "\u001b[1;31mNoSuchElementException\u001b[0m                    Traceback (most recent call last)",
      "\u001b[1;32m<ipython-input-34-36ff309fbeb6>\u001b[0m in \u001b[0;36m<module>\u001b[1;34m()\u001b[0m\n\u001b[1;32m----> 1\u001b[1;33m \u001b[0mhearing\u001b[0m\u001b[1;33m=\u001b[0m\u001b[0mgpo\u001b[0m\u001b[1;33m.\u001b[0m\u001b[0mfind_element_by_partial_link_text\u001b[0m\u001b[1;33m(\u001b[0m\u001b[1;34m\"House Hearings\"\u001b[0m\u001b[1;33m)\u001b[0m\u001b[1;33m\u001b[0m\u001b[0m\n\u001b[0m\u001b[0;32m      2\u001b[0m \u001b[0mhearing\u001b[0m\u001b[1;33m.\u001b[0m\u001b[0mclick\u001b[0m\u001b[1;33m(\u001b[0m\u001b[1;33m)\u001b[0m\u001b[1;33m\u001b[0m\u001b[0m\n",
      "\u001b[1;32mc:\\users\\mutho\\appdata\\local\\programs\\python\\python37-32\\lib\\site-packages\\selenium\\webdriver\\remote\\webdriver.py\u001b[0m in \u001b[0;36mfind_element_by_partial_link_text\u001b[1;34m(self, link_text)\u001b[0m\n\u001b[0;32m    460\u001b[0m             \u001b[0melement\u001b[0m \u001b[1;33m=\u001b[0m \u001b[0mdriver\u001b[0m\u001b[1;33m.\u001b[0m\u001b[0mfind_element_by_partial_link_text\u001b[0m\u001b[1;33m(\u001b[0m\u001b[1;34m'Sign'\u001b[0m\u001b[1;33m)\u001b[0m\u001b[1;33m\u001b[0m\u001b[0m\n\u001b[0;32m    461\u001b[0m         \"\"\"\n\u001b[1;32m--> 462\u001b[1;33m         \u001b[1;32mreturn\u001b[0m \u001b[0mself\u001b[0m\u001b[1;33m.\u001b[0m\u001b[0mfind_element\u001b[0m\u001b[1;33m(\u001b[0m\u001b[0mby\u001b[0m\u001b[1;33m=\u001b[0m\u001b[0mBy\u001b[0m\u001b[1;33m.\u001b[0m\u001b[0mPARTIAL_LINK_TEXT\u001b[0m\u001b[1;33m,\u001b[0m \u001b[0mvalue\u001b[0m\u001b[1;33m=\u001b[0m\u001b[0mlink_text\u001b[0m\u001b[1;33m)\u001b[0m\u001b[1;33m\u001b[0m\u001b[0m\n\u001b[0m\u001b[0;32m    463\u001b[0m \u001b[1;33m\u001b[0m\u001b[0m\n\u001b[0;32m    464\u001b[0m     \u001b[1;32mdef\u001b[0m \u001b[0mfind_elements_by_partial_link_text\u001b[0m\u001b[1;33m(\u001b[0m\u001b[0mself\u001b[0m\u001b[1;33m,\u001b[0m \u001b[0mlink_text\u001b[0m\u001b[1;33m)\u001b[0m\u001b[1;33m:\u001b[0m\u001b[1;33m\u001b[0m\u001b[0m\n",
      "\u001b[1;32mc:\\users\\mutho\\appdata\\local\\programs\\python\\python37-32\\lib\\site-packages\\selenium\\webdriver\\remote\\webdriver.py\u001b[0m in \u001b[0;36mfind_element\u001b[1;34m(self, by, value)\u001b[0m\n\u001b[0;32m    976\u001b[0m         return self.execute(Command.FIND_ELEMENT, {\n\u001b[0;32m    977\u001b[0m             \u001b[1;34m'using'\u001b[0m\u001b[1;33m:\u001b[0m \u001b[0mby\u001b[0m\u001b[1;33m,\u001b[0m\u001b[1;33m\u001b[0m\u001b[0m\n\u001b[1;32m--> 978\u001b[1;33m             'value': value})['value']\n\u001b[0m\u001b[0;32m    979\u001b[0m \u001b[1;33m\u001b[0m\u001b[0m\n\u001b[0;32m    980\u001b[0m     \u001b[1;32mdef\u001b[0m \u001b[0mfind_elements\u001b[0m\u001b[1;33m(\u001b[0m\u001b[0mself\u001b[0m\u001b[1;33m,\u001b[0m \u001b[0mby\u001b[0m\u001b[1;33m=\u001b[0m\u001b[0mBy\u001b[0m\u001b[1;33m.\u001b[0m\u001b[0mID\u001b[0m\u001b[1;33m,\u001b[0m \u001b[0mvalue\u001b[0m\u001b[1;33m=\u001b[0m\u001b[1;32mNone\u001b[0m\u001b[1;33m)\u001b[0m\u001b[1;33m:\u001b[0m\u001b[1;33m\u001b[0m\u001b[0m\n",
      "\u001b[1;32mc:\\users\\mutho\\appdata\\local\\programs\\python\\python37-32\\lib\\site-packages\\selenium\\webdriver\\remote\\webdriver.py\u001b[0m in \u001b[0;36mexecute\u001b[1;34m(self, driver_command, params)\u001b[0m\n\u001b[0;32m    319\u001b[0m         \u001b[0mresponse\u001b[0m \u001b[1;33m=\u001b[0m \u001b[0mself\u001b[0m\u001b[1;33m.\u001b[0m\u001b[0mcommand_executor\u001b[0m\u001b[1;33m.\u001b[0m\u001b[0mexecute\u001b[0m\u001b[1;33m(\u001b[0m\u001b[0mdriver_command\u001b[0m\u001b[1;33m,\u001b[0m \u001b[0mparams\u001b[0m\u001b[1;33m)\u001b[0m\u001b[1;33m\u001b[0m\u001b[0m\n\u001b[0;32m    320\u001b[0m         \u001b[1;32mif\u001b[0m \u001b[0mresponse\u001b[0m\u001b[1;33m:\u001b[0m\u001b[1;33m\u001b[0m\u001b[0m\n\u001b[1;32m--> 321\u001b[1;33m             \u001b[0mself\u001b[0m\u001b[1;33m.\u001b[0m\u001b[0merror_handler\u001b[0m\u001b[1;33m.\u001b[0m\u001b[0mcheck_response\u001b[0m\u001b[1;33m(\u001b[0m\u001b[0mresponse\u001b[0m\u001b[1;33m)\u001b[0m\u001b[1;33m\u001b[0m\u001b[0m\n\u001b[0m\u001b[0;32m    322\u001b[0m             response['value'] = self._unwrap_value(\n\u001b[0;32m    323\u001b[0m                 response.get('value', None))\n",
      "\u001b[1;32mc:\\users\\mutho\\appdata\\local\\programs\\python\\python37-32\\lib\\site-packages\\selenium\\webdriver\\remote\\errorhandler.py\u001b[0m in \u001b[0;36mcheck_response\u001b[1;34m(self, response)\u001b[0m\n\u001b[0;32m    240\u001b[0m                 \u001b[0malert_text\u001b[0m \u001b[1;33m=\u001b[0m \u001b[0mvalue\u001b[0m\u001b[1;33m[\u001b[0m\u001b[1;34m'alert'\u001b[0m\u001b[1;33m]\u001b[0m\u001b[1;33m.\u001b[0m\u001b[0mget\u001b[0m\u001b[1;33m(\u001b[0m\u001b[1;34m'text'\u001b[0m\u001b[1;33m)\u001b[0m\u001b[1;33m\u001b[0m\u001b[0m\n\u001b[0;32m    241\u001b[0m             \u001b[1;32mraise\u001b[0m \u001b[0mexception_class\u001b[0m\u001b[1;33m(\u001b[0m\u001b[0mmessage\u001b[0m\u001b[1;33m,\u001b[0m \u001b[0mscreen\u001b[0m\u001b[1;33m,\u001b[0m \u001b[0mstacktrace\u001b[0m\u001b[1;33m,\u001b[0m \u001b[0malert_text\u001b[0m\u001b[1;33m)\u001b[0m\u001b[1;33m\u001b[0m\u001b[0m\n\u001b[1;32m--> 242\u001b[1;33m         \u001b[1;32mraise\u001b[0m \u001b[0mexception_class\u001b[0m\u001b[1;33m(\u001b[0m\u001b[0mmessage\u001b[0m\u001b[1;33m,\u001b[0m \u001b[0mscreen\u001b[0m\u001b[1;33m,\u001b[0m \u001b[0mstacktrace\u001b[0m\u001b[1;33m)\u001b[0m\u001b[1;33m\u001b[0m\u001b[0m\n\u001b[0m\u001b[0;32m    243\u001b[0m \u001b[1;33m\u001b[0m\u001b[0m\n\u001b[0;32m    244\u001b[0m     \u001b[1;32mdef\u001b[0m \u001b[0m_value_or_default\u001b[0m\u001b[1;33m(\u001b[0m\u001b[0mself\u001b[0m\u001b[1;33m,\u001b[0m \u001b[0mobj\u001b[0m\u001b[1;33m,\u001b[0m \u001b[0mkey\u001b[0m\u001b[1;33m,\u001b[0m \u001b[0mdefault\u001b[0m\u001b[1;33m)\u001b[0m\u001b[1;33m:\u001b[0m\u001b[1;33m\u001b[0m\u001b[0m\n",
      "\u001b[1;31mNoSuchElementException\u001b[0m: Message: no such element: Unable to locate element: {\"method\":\"partial link text\",\"selector\":\"House Hearings\"}\n  (Session info: chrome=69.0.3497.100)\n  (Driver info: chromedriver=2.42.591088 (7b2b2dca23cca0862f674758c9a3933e685c27d5),platform=Windows NT 10.0.17134 x86_64)\n"
     ]
    }
   ],
   "source": [
    "hearing=gpo.find_element_by_partial_link_text(\"House Hearings\")\n",
    "hearing.click()"
   ]
  },
  {
   "cell_type": "markdown",
   "metadata": {},
   "source": [
    "Oh, actually we meant the Senate Hearings; specifically those of the Appropriations Committee."
   ]
  },
  {
   "cell_type": "code",
   "execution_count": 35,
   "metadata": {},
   "outputs": [
    {
     "ename": "NoSuchElementException",
     "evalue": "Message: no such element: Unable to locate element: {\"method\":\"partial link text\",\"selector\":\"Senate Hearings\"}\n  (Session info: chrome=69.0.3497.100)\n  (Driver info: chromedriver=2.42.591088 (7b2b2dca23cca0862f674758c9a3933e685c27d5),platform=Windows NT 10.0.17134 x86_64)\n",
     "output_type": "error",
     "traceback": [
      "\u001b[1;31m---------------------------------------------------------------------------\u001b[0m",
      "\u001b[1;31mNoSuchElementException\u001b[0m                    Traceback (most recent call last)",
      "\u001b[1;32m<ipython-input-35-810f4c6bc46d>\u001b[0m in \u001b[0;36m<module>\u001b[1;34m()\u001b[0m\n\u001b[0;32m      2\u001b[0m \u001b[0msleep\u001b[0m\u001b[1;33m(\u001b[0m\u001b[1;36m.5\u001b[0m\u001b[1;33m)\u001b[0m\u001b[1;33m\u001b[0m\u001b[0m\n\u001b[0;32m      3\u001b[0m \u001b[1;33m\u001b[0m\u001b[0m\n\u001b[1;32m----> 4\u001b[1;33m \u001b[0mhearing\u001b[0m\u001b[1;33m=\u001b[0m\u001b[0mgpo\u001b[0m\u001b[1;33m.\u001b[0m\u001b[0mfind_element_by_partial_link_text\u001b[0m\u001b[1;33m(\u001b[0m\u001b[1;34m\"Senate Hearings\"\u001b[0m\u001b[1;33m)\u001b[0m\u001b[1;33m\u001b[0m\u001b[0m\n\u001b[0m\u001b[0;32m      5\u001b[0m \u001b[0mhearing\u001b[0m\u001b[1;33m.\u001b[0m\u001b[0mclick\u001b[0m\u001b[1;33m(\u001b[0m\u001b[1;33m)\u001b[0m\u001b[1;33m\u001b[0m\u001b[0m\n\u001b[0;32m      6\u001b[0m \u001b[0msleep\u001b[0m\u001b[1;33m(\u001b[0m\u001b[1;36m1\u001b[0m\u001b[1;33m)\u001b[0m\u001b[1;33m\u001b[0m\u001b[0m\n",
      "\u001b[1;32mc:\\users\\mutho\\appdata\\local\\programs\\python\\python37-32\\lib\\site-packages\\selenium\\webdriver\\remote\\webdriver.py\u001b[0m in \u001b[0;36mfind_element_by_partial_link_text\u001b[1;34m(self, link_text)\u001b[0m\n\u001b[0;32m    460\u001b[0m             \u001b[0melement\u001b[0m \u001b[1;33m=\u001b[0m \u001b[0mdriver\u001b[0m\u001b[1;33m.\u001b[0m\u001b[0mfind_element_by_partial_link_text\u001b[0m\u001b[1;33m(\u001b[0m\u001b[1;34m'Sign'\u001b[0m\u001b[1;33m)\u001b[0m\u001b[1;33m\u001b[0m\u001b[0m\n\u001b[0;32m    461\u001b[0m         \"\"\"\n\u001b[1;32m--> 462\u001b[1;33m         \u001b[1;32mreturn\u001b[0m \u001b[0mself\u001b[0m\u001b[1;33m.\u001b[0m\u001b[0mfind_element\u001b[0m\u001b[1;33m(\u001b[0m\u001b[0mby\u001b[0m\u001b[1;33m=\u001b[0m\u001b[0mBy\u001b[0m\u001b[1;33m.\u001b[0m\u001b[0mPARTIAL_LINK_TEXT\u001b[0m\u001b[1;33m,\u001b[0m \u001b[0mvalue\u001b[0m\u001b[1;33m=\u001b[0m\u001b[0mlink_text\u001b[0m\u001b[1;33m)\u001b[0m\u001b[1;33m\u001b[0m\u001b[0m\n\u001b[0m\u001b[0;32m    463\u001b[0m \u001b[1;33m\u001b[0m\u001b[0m\n\u001b[0;32m    464\u001b[0m     \u001b[1;32mdef\u001b[0m \u001b[0mfind_elements_by_partial_link_text\u001b[0m\u001b[1;33m(\u001b[0m\u001b[0mself\u001b[0m\u001b[1;33m,\u001b[0m \u001b[0mlink_text\u001b[0m\u001b[1;33m)\u001b[0m\u001b[1;33m:\u001b[0m\u001b[1;33m\u001b[0m\u001b[0m\n",
      "\u001b[1;32mc:\\users\\mutho\\appdata\\local\\programs\\python\\python37-32\\lib\\site-packages\\selenium\\webdriver\\remote\\webdriver.py\u001b[0m in \u001b[0;36mfind_element\u001b[1;34m(self, by, value)\u001b[0m\n\u001b[0;32m    976\u001b[0m         return self.execute(Command.FIND_ELEMENT, {\n\u001b[0;32m    977\u001b[0m             \u001b[1;34m'using'\u001b[0m\u001b[1;33m:\u001b[0m \u001b[0mby\u001b[0m\u001b[1;33m,\u001b[0m\u001b[1;33m\u001b[0m\u001b[0m\n\u001b[1;32m--> 978\u001b[1;33m             'value': value})['value']\n\u001b[0m\u001b[0;32m    979\u001b[0m \u001b[1;33m\u001b[0m\u001b[0m\n\u001b[0;32m    980\u001b[0m     \u001b[1;32mdef\u001b[0m \u001b[0mfind_elements\u001b[0m\u001b[1;33m(\u001b[0m\u001b[0mself\u001b[0m\u001b[1;33m,\u001b[0m \u001b[0mby\u001b[0m\u001b[1;33m=\u001b[0m\u001b[0mBy\u001b[0m\u001b[1;33m.\u001b[0m\u001b[0mID\u001b[0m\u001b[1;33m,\u001b[0m \u001b[0mvalue\u001b[0m\u001b[1;33m=\u001b[0m\u001b[1;32mNone\u001b[0m\u001b[1;33m)\u001b[0m\u001b[1;33m:\u001b[0m\u001b[1;33m\u001b[0m\u001b[0m\n",
      "\u001b[1;32mc:\\users\\mutho\\appdata\\local\\programs\\python\\python37-32\\lib\\site-packages\\selenium\\webdriver\\remote\\webdriver.py\u001b[0m in \u001b[0;36mexecute\u001b[1;34m(self, driver_command, params)\u001b[0m\n\u001b[0;32m    319\u001b[0m         \u001b[0mresponse\u001b[0m \u001b[1;33m=\u001b[0m \u001b[0mself\u001b[0m\u001b[1;33m.\u001b[0m\u001b[0mcommand_executor\u001b[0m\u001b[1;33m.\u001b[0m\u001b[0mexecute\u001b[0m\u001b[1;33m(\u001b[0m\u001b[0mdriver_command\u001b[0m\u001b[1;33m,\u001b[0m \u001b[0mparams\u001b[0m\u001b[1;33m)\u001b[0m\u001b[1;33m\u001b[0m\u001b[0m\n\u001b[0;32m    320\u001b[0m         \u001b[1;32mif\u001b[0m \u001b[0mresponse\u001b[0m\u001b[1;33m:\u001b[0m\u001b[1;33m\u001b[0m\u001b[0m\n\u001b[1;32m--> 321\u001b[1;33m             \u001b[0mself\u001b[0m\u001b[1;33m.\u001b[0m\u001b[0merror_handler\u001b[0m\u001b[1;33m.\u001b[0m\u001b[0mcheck_response\u001b[0m\u001b[1;33m(\u001b[0m\u001b[0mresponse\u001b[0m\u001b[1;33m)\u001b[0m\u001b[1;33m\u001b[0m\u001b[0m\n\u001b[0m\u001b[0;32m    322\u001b[0m             response['value'] = self._unwrap_value(\n\u001b[0;32m    323\u001b[0m                 response.get('value', None))\n",
      "\u001b[1;32mc:\\users\\mutho\\appdata\\local\\programs\\python\\python37-32\\lib\\site-packages\\selenium\\webdriver\\remote\\errorhandler.py\u001b[0m in \u001b[0;36mcheck_response\u001b[1;34m(self, response)\u001b[0m\n\u001b[0;32m    240\u001b[0m                 \u001b[0malert_text\u001b[0m \u001b[1;33m=\u001b[0m \u001b[0mvalue\u001b[0m\u001b[1;33m[\u001b[0m\u001b[1;34m'alert'\u001b[0m\u001b[1;33m]\u001b[0m\u001b[1;33m.\u001b[0m\u001b[0mget\u001b[0m\u001b[1;33m(\u001b[0m\u001b[1;34m'text'\u001b[0m\u001b[1;33m)\u001b[0m\u001b[1;33m\u001b[0m\u001b[0m\n\u001b[0;32m    241\u001b[0m             \u001b[1;32mraise\u001b[0m \u001b[0mexception_class\u001b[0m\u001b[1;33m(\u001b[0m\u001b[0mmessage\u001b[0m\u001b[1;33m,\u001b[0m \u001b[0mscreen\u001b[0m\u001b[1;33m,\u001b[0m \u001b[0mstacktrace\u001b[0m\u001b[1;33m,\u001b[0m \u001b[0malert_text\u001b[0m\u001b[1;33m)\u001b[0m\u001b[1;33m\u001b[0m\u001b[0m\n\u001b[1;32m--> 242\u001b[1;33m         \u001b[1;32mraise\u001b[0m \u001b[0mexception_class\u001b[0m\u001b[1;33m(\u001b[0m\u001b[0mmessage\u001b[0m\u001b[1;33m,\u001b[0m \u001b[0mscreen\u001b[0m\u001b[1;33m,\u001b[0m \u001b[0mstacktrace\u001b[0m\u001b[1;33m)\u001b[0m\u001b[1;33m\u001b[0m\u001b[0m\n\u001b[0m\u001b[0;32m    243\u001b[0m \u001b[1;33m\u001b[0m\u001b[0m\n\u001b[0;32m    244\u001b[0m     \u001b[1;32mdef\u001b[0m \u001b[0m_value_or_default\u001b[0m\u001b[1;33m(\u001b[0m\u001b[0mself\u001b[0m\u001b[1;33m,\u001b[0m \u001b[0mobj\u001b[0m\u001b[1;33m,\u001b[0m \u001b[0mkey\u001b[0m\u001b[1;33m,\u001b[0m \u001b[0mdefault\u001b[0m\u001b[1;33m)\u001b[0m\u001b[1;33m:\u001b[0m\u001b[1;33m\u001b[0m\u001b[0m\n",
      "\u001b[1;31mNoSuchElementException\u001b[0m: Message: no such element: Unable to locate element: {\"method\":\"partial link text\",\"selector\":\"Senate Hearings\"}\n  (Session info: chrome=69.0.3497.100)\n  (Driver info: chromedriver=2.42.591088 (7b2b2dca23cca0862f674758c9a3933e685c27d5),platform=Windows NT 10.0.17134 x86_64)\n"
     ]
    }
   ],
   "source": [
    "gpo.back()\n",
    "sleep(.5)\n",
    "\n",
    "hearing=gpo.find_element_by_partial_link_text(\"Senate Hearings\")\n",
    "hearing.click()\n",
    "sleep(1)\n",
    "\n",
    "committee=gpo.find_element_by_partial_link_text(\"Appropriations\")\n",
    "committee.click()"
   ]
  },
  {
   "cell_type": "markdown",
   "metadata": {},
   "source": [
    "And now let's have a look at one of those texts. We will use the first one from the top. "
   ]
  },
  {
   "cell_type": "code",
   "execution_count": 18,
   "metadata": {},
   "outputs": [],
   "source": [
    "text= gpo.find_elements_by_partial_link_text(\"Text\")\n",
    "text[0].click()"
   ]
  },
  {
   "cell_type": "markdown",
   "metadata": {},
   "source": [
    "You can see how this is coming along nicely. But before we go on, please notice two things about the code we just executed. First, there is an extra \"s\" in the command \"``find_element``<b>s</b>``_by_partial_link_text``\". It was added to the command because the text we are looking for fits more than one element on the page. Our program would have been confused if we had used the command without the extra \"s\".\n",
    "\n",
    "The second point to note is the zero in the squared brackets. This is another Python convention. We see it for the first time in this tutorial. This, somewhat unintuitive convention says that lists in Python are number starting from zero. So the first list item is item zero and the tenth item would be item eleven. In order to click on the first element, we thus have to write \"[0]\". \n",
    "\n",
    "Back to our text. As you can see in your browser, the GPO provides transcripts of the Hearings as HTML documents including basic, unformatted text. This is good news for us since we do not have to worry about finding the text in a particular location on the page. Rather, we can download the whole page and store it into a text file. In the end, we will precisely do just that: ask our program to download and store the many HTML files that it finds behind all the \"Text\" links.\n",
    "\n",
    "There is one inconvenience between us and the conlusion of this tutorial right now: The Hearing text was opened in a new browser window. Before we can start storing individual text files, we need to get back to our original window. \n",
    "\n",
    "The way we can do this is allow the program to exploit the keyboard shortcuts of our browser. If you want to close a tab, you have two options: You can click on the \"x\" in its righthand corner. Or you can press \"CTRL + w\" on your keyboard (\"COMMAND + w\" for Macs). Our program is able to do just that as well.\n",
    "\n",
    "In the code below, we first ensure that the browser tab is active. We do this by having the program locate a tag that is inside the HTML we are looking at. Probably the most general tag in HTML world is the \"body\" tag. We will have our program search for this one. Now that we are sure that the program is looking at the browser tab we want to close, we will send the key combindation \"CTRL + w\" right to it."
   ]
  },
  {
   "cell_type": "code",
   "execution_count": 22,
   "metadata": {},
   "outputs": [],
   "source": [
    "gpo.find_element_by_tag_name('body').send_keys(Keys.CONTROL + 'w')"
   ]
  },
  {
   "cell_type": "markdown",
   "metadata": {},
   "source": [
    "Welcome back!<br>"
   ]
  },
  {
   "cell_type": "markdown",
   "metadata": {},
   "source": [
    "#### Storing the text\n",
    "\n",
    "Rather than opening the link under \"Text\", we want to store the HTML file it leads to onto our computer. Let's first look at this link once. Remember from our basic HTML above that the link is found in the \"href\" attribute of the ``<a>`` tag. To extract this link, we write:"
   ]
  },
  {
   "cell_type": "code",
   "execution_count": 23,
   "metadata": {},
   "outputs": [
    {
     "name": "stdout",
     "output_type": "stream",
     "text": [
      "https://www.gpo.gov/fdsys/pkg/CHRG-115shrg79104750/html/CHRG-115shrg79104750.htm\n"
     ]
    }
   ],
   "source": [
    "hearing_text_link = text[0].get_attribute('href')\n",
    "print(hearing_text_link)"
   ]
  },
  {
   "cell_type": "markdown",
   "metadata": {},
   "source": [
    "Notice that the extracted link ends with \".htm\", the file extension for HTML files (another one is \".html\"). What we thus have in front of us is the path to an HTML file of the Hearing transcript. What is left to do is to use this link, ask our programme to download the \".htm\" file and convert it into a text file (\".txt\"). Converting the HTML file into the text file is very easy thanks to the inexistent page formatting used by the GPO to display the transcripts. All we have to do is change the ending of the file from \".htm\" to \".txt\".\n",
    "\n",
    "The last package we loaded at the start of this tutorial, urllib, will do exactly that. All that we have left to do then is to set the file name which we want to use. "
   ]
  },
  {
   "cell_type": "code",
   "execution_count": 28,
   "metadata": {},
   "outputs": [],
   "source": [
    "file_name=\"my first file.pdf\"\n",
    "r = requests.get(hearing_text_link)\n",
    "with open(file_name, 'wb') as outfile:\n",
    "    outfile.write(r.content)"
   ]
  },
  {
   "cell_type": "markdown",
   "metadata": {},
   "source": [
    "That's it! Our program just learned how to download its first Hearing transcript! The program will have to do it many times over in order to store all the Hearings that we can find online. But before we get to do that, let's first close the browser window again:"
   ]
  },
  {
   "cell_type": "code",
   "execution_count": null,
   "metadata": {
    "collapsed": true
   },
   "outputs": [],
   "source": [
    "gpo.quit()"
   ]
  },
  {
   "cell_type": "code",
   "execution_count": 10,
   "metadata": {},
   "outputs": [
    {
     "name": "stdout",
     "output_type": "stream",
     "text": [
      "https://www.supremecourt.gov/oral_arguments/argument_transcripts/2017/17-530_2co3.pdf\n",
      "https://www.supremecourt.gov/oral_arguments/argument_transcripts/2017/16-1011_j5fl.pdf\n",
      "https://www.supremecourt.gov/oral_arguments/argument_transcripts/2017/17-494_9o6b.pdf\n",
      "https://www.supremecourt.gov/oral_arguments/argument_transcripts/2017/16-1215_f2ah.pdf\n",
      "https://www.supremecourt.gov/oral_arguments/argument_transcripts/2017/16-1519_09m1.pdf\n",
      "https://www.supremecourt.gov/oral_arguments/argument_transcripts/2017/17-269_n6p1.pdf\n",
      "https://www.supremecourt.gov/oral_arguments/argument_transcripts/2017/17-130_1p23.pdf\n",
      "https://www.supremecourt.gov/oral_arguments/argument_transcripts/2017/17-459_00m5.pdf\n",
      "https://www.supremecourt.gov/oral_arguments/argument_transcripts/2017/17-5639_5ifl.pdf\n",
      "https://www.supremecourt.gov/oral_arguments/argument_transcripts/2017/17-586_4357.pdf\n",
      "https://www.supremecourt.gov/oral_arguments/argument_transcripts/2017/16-1220_8nj9.pdf\n",
      "https://www.supremecourt.gov/oral_arguments/argument_transcripts/2017/17-965_l5gm.pdf\n",
      "https://www.supremecourt.gov/oral_arguments/argument_transcripts/2017/16-1432_c1ne.pdf\n",
      "https://www.supremecourt.gov/oral_arguments/argument_transcripts/2017/16-1140_o759.pdf\n",
      "https://www.supremecourt.gov/oral_arguments/argument_transcripts/2017/17-387_097c.pdf\n",
      "https://www.supremecourt.gov/oral_arguments/argument_transcripts/2017/17-312_4f57.pdf\n",
      "https://www.supremecourt.gov/oral_arguments/argument_transcripts/2017/17-432_c07d.pdf\n",
      "https://www.supremecourt.gov/oral_arguments/argument_transcripts/2017/17-155_g314.pdf\n",
      "https://www.supremecourt.gov/oral_arguments/argument_transcripts/2017/17-5716_6468.pdf\n",
      "https://www.supremecourt.gov/oral_arguments/argument_transcripts/2017/17-333_n6io.pdf\n",
      "https://www.supremecourt.gov/oral_arguments/argument_transcripts/2017/16-1348_886g.pdf\n",
      "https://www.supremecourt.gov/oral_arguments/argument_transcripts/2017/16-1495_4814.pdf\n",
      "https://www.supremecourt.gov/oral_arguments/argument_transcripts/2017/16-9493_82pb.pdf\n",
      "https://www.supremecourt.gov/oral_arguments/argument_transcripts/2017/17-43_q46p.pdf\n",
      "https://www.supremecourt.gov/oral_arguments/argument_transcripts/2017/16-1466_bocf.pdf\n",
      "https://www.supremecourt.gov/oral_arguments/argument_transcripts/2017/16-1454_o7jp.pdf\n",
      "https://www.supremecourt.gov/oral_arguments/argument_transcripts/2017/17-2_9pl4.pdf\n",
      "https://www.supremecourt.gov/oral_arguments/argument_transcripts/2017/17-21_ljgm.pdf\n",
      "https://www.supremecourt.gov/oral_arguments/argument_transcripts/2017/16-1435_2co3.pdf\n",
      "https://www.supremecourt.gov/oral_arguments/argument_transcripts/2017/141-orig_b8dg.pdf\n",
      "https://www.supremecourt.gov/oral_arguments/argument_transcripts/2017/142-orig_p8k0.pdf\n",
      "https://www.supremecourt.gov/oral_arguments/argument_transcripts/2017/16-1371_l6hc.pdf\n",
      "https://www.supremecourt.gov/oral_arguments/argument_transcripts/2017/16-1027_p4k8.pdf\n",
      "https://www.supremecourt.gov/oral_arguments/argument_transcripts/2017/16-980_n6p1.pdf\n",
      "https://www.supremecourt.gov/oral_arguments/argument_transcripts/2017/16-1150_b97c.pdf\n",
      "https://www.supremecourt.gov/oral_arguments/argument_transcripts/2017/16-961_768b.pdf\n",
      "https://www.supremecourt.gov/oral_arguments/argument_transcripts/2017/16-1362_bb7j.pdf\n",
      "https://www.supremecourt.gov/oral_arguments/argument_transcripts/2017/16-8255_m2hl.pdf\n",
      "https://www.supremecourt.gov/oral_arguments/argument_transcripts/2017/16-712_7kh7.pdf\n",
      "https://www.supremecourt.gov/oral_arguments/argument_transcripts/2017/16-969_ihdk.pdf\n",
      "https://www.supremecourt.gov/oral_arguments/argument_transcripts/2017/15-1439_4g15.pdf\n",
      "https://www.supremecourt.gov/oral_arguments/argument_transcripts/2017/16-1276_9ok0.pdf\n",
      "https://www.supremecourt.gov/oral_arguments/argument_transcripts/2017/16-402_6khn.pdf\n",
      "https://www.supremecourt.gov/oral_arguments/argument_transcripts/2017/16-476_6h78.pdf\n",
      "https://www.supremecourt.gov/oral_arguments/argument_transcripts/2017/16-534_if5n.pdf\n",
      "https://www.supremecourt.gov/oral_arguments/argument_transcripts/2017/16-111_f29g.pdf\n",
      "https://www.supremecourt.gov/oral_arguments/argument_transcripts/2017/16-1067_m6hn.pdf\n",
      "https://www.supremecourt.gov/oral_arguments/argument_transcripts/2017/16-1144_664d.pdf\n",
      "https://www.supremecourt.gov/oral_arguments/argument_transcripts/2017/16-6795_1o13.pdf\n",
      "https://www.supremecourt.gov/oral_arguments/argument_transcripts/2017/16-6855_6i79.pdf\n",
      "https://www.supremecourt.gov/oral_arguments/argument_transcripts/2017/15-1509_n7jf.pdf\n",
      "https://www.supremecourt.gov/oral_arguments/argument_transcripts/2017/16-460_3703.pdf\n",
      "https://www.supremecourt.gov/oral_arguments/argument_transcripts/2017/16-784_j5f0.pdf\n",
      "https://www.supremecourt.gov/oral_arguments/argument_transcripts/2017/16-498_pfa1.pdf\n",
      "https://www.supremecourt.gov/oral_arguments/argument_transcripts/2017/16-285_q8l1.pdf\n",
      "https://www.supremecourt.gov/oral_arguments/argument_transcripts/2017/15-1498_9p6b.pdf\n",
      "https://www.supremecourt.gov/oral_arguments/argument_transcripts/2017/16-1161_mjn0.pdf\n",
      "https://www.supremecourt.gov/oral_arguments/argument_transcripts/2017/15-1204_2c83.pdf\n",
      "https://www.supremecourt.gov/oral_arguments/argument_transcripts/2017/15-1485_gfbi.pdf\n",
      "https://www.supremecourt.gov/oral_arguments/argument_transcripts/2017/16-424_8l8c.pdf\n",
      "https://www.supremecourt.gov/oral_arguments/argument_transcripts/2017/16-658_mli2.pdf\n",
      "https://www.supremecourt.gov/oral_arguments/argument_transcripts/2017/16-299_3eah.pdf\n",
      "https://www.supremecourt.gov/oral_arguments/argument_transcripts/2017/16-499_n24m.pdf\n"
     ]
    }
   ],
   "source": [
    "sca = webdriver.Chrome(path_to_driver)\n",
    "url = 'https://www.supremecourt.gov/oral_arguments/argument_transcript/2017'\n",
    "sca.get(url)\n",
    "links = sca.find_elements_by_xpath('//*/div/table/tbody/tr/td[1]/span[1]/a')\n",
    "for link in links:\n",
    "    print(link.get_attribute('href'))"
   ]
  },
  {
   "cell_type": "markdown",
   "metadata": {
    "collapsed": true
   },
   "source": []
  }
 ],
 "metadata": {
  "anaconda-cloud": {},
  "kernelspec": {
   "display_name": "Python 3",
   "language": "python",
   "name": "python3"
  },
  "language_info": {
   "codemirror_mode": {
    "name": "ipython",
    "version": 3
   },
   "file_extension": ".py",
   "mimetype": "text/x-python",
   "name": "python",
   "nbconvert_exporter": "python",
   "pygments_lexer": "ipython3",
   "version": "3.7.0"
  }
 },
 "nbformat": 4,
 "nbformat_minor": 1
}
