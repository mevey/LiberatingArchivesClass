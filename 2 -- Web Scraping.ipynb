{
 "cells": [
  {
   "cell_type": "markdown",
   "metadata": {},
   "source": [
    "# Phase I: Gathering your Documents Together\n",
    "\n",
    "### Learning goals\n",
    "In this section, we will learn how to program a computer to do what many of us have done plenty of times before: download files from the internet.\n",
    "\n",
    "Libraries and archives around the world are going digital, making it possible for anyone with an internet connection to search through their holdings, find interesting documents, download them, and read them on their computer. Growing digitization increases our access to the world's knowledge at a rapid clip.\n",
    "\n",
    "Imagine you are a researcher who is searching not just for the contents of one particular document, but who wants to enlist the help of a computer to read thousands of documents at once. With today's text analysis tools, researchers can uncover patterns of human behavior across all those documents by pulling them together in one place where a computer can read them all at once.\n",
    "\n",
    "The good news is: we already know how to find and download documents from the internet. Most of us do it at least a few times a week. We go to a website, scroll to a link, click, scroll to another link, click, and then click on a 'file download' button. The file appears at the bottom of our browser window, we double-click it, and it pops up into a window as a PDF, as a Microsoft Word file, or as a text file. No problem! \n",
    "\n",
    "The bad news is: it takes us about 20-30 seconds of pointing and clicking to download a single file ... and we want to download thousands of files.\n",
    "\n",
    "But there is more good news: with today's freely available technology, it is rather easy to program a computer to do all of this pointing and clicking for us. And that is precisely what you will learn in this section! You will teach your computer to literally take over your web browser and navigate through the site as you would navigate it yourself - just at greater speed and with greater persistence. This is a task generally known as \"web scraping\" where you collect text or files from a webpage and store them on your hard drive. \n"
   ]
  },
  {
   "cell_type": "markdown",
   "metadata": {},
   "source": [
    "##  Let your computer browse the web\n",
    "\n",
    "<i>[NOTE: This section of the tutorial will only work when using this notebook on your local machine. To work, Selenium and the relevant <a href=\"https://selenium-python.readthedocs.io/installation.html\" target=\"_blank\">webdriver</a> have to be properly installed in advance.]</i>\n",
    "\n",
    "Now that we know all about giving directions, it is time to let your computer browse the web. This section introduces the Selenium package. Originally designed to test new website, the Selenium package allows you to control your web browser without moving your mouse or touching your keyboard. Instead, the program navigates the site based on the XPath directions introduced above.\n",
    "\n",
    "The introduction to Selenium remains very close to the goals of this tutorial. Please see the package's <a href=\"https://selenium-python.readthedocs.io/\" target=\"_blank\">documentation</a> for more information. Furthermore, specific tutorials can be found easily online as the Selenium package is very popular among Python users. "
   ]
  },
  {
   "cell_type": "markdown",
   "metadata": {},
   "source": [
    "#### Browser setup\n",
    "\n",
    "Before letting it navigate the web, we have to award additional abilities to our program. When we want our smartphone to learn a new trick, we install a new app. In Python, our programming language, the equivalent of installing an app is loading a module. \n",
    "\n",
    "For what we want to do in this tutorial, we will have to load four modules. Our program uses the Operating System module (\"os\") which allows the program to work on your hard drive, the urllib module (\"urllib\") to collect text from a webpage, and the Selenium module (\"selenium\") to mimic the user's click routine on the page. Finally, we use a module called \"time\" to allow our program to take short breaks when we want it to wait before browsing on."
   ]
  },
  {
   "cell_type": "code",
   "execution_count": 26,
   "metadata": {
    "scrolled": true
   },
   "outputs": [],
   "source": [
    "import os\n",
    "import urllib\n",
    "import requests\n",
    "from selenium import webdriver\n",
    "from selenium.webdriver.common.keys import Keys\n",
    "from time import sleep"
   ]
  },
  {
   "cell_type": "markdown",
   "metadata": {},
   "source": [
    "#### Starting the browser\n",
    "\n",
    "With these modules in memory, our program is now ready to start browsing. The first step is to open a browser. In our example, we will browse the web using Mozilla Firefox. However, Selenium works on most popular browsers.\n",
    "\n",
    "Our computer does not have its own mouse or keyboard with which it could open a new browser window. Instead, what Selenium uses is a so-called \"webdriver\". A webdriver basically opens the channel between our program and the browser installed on your computer.\n",
    "\n",
    "To ask the webdriver to open up Chrome, all we need is:"
   ]
  },
  {
   "cell_type": "code",
   "execution_count": 11,
   "metadata": {},
   "outputs": [],
   "source": [
    "path_to_driver = 'C:/Users/mutho/Downloads/chromedriver_win32/chromedriver.exe'\n",
    "webdriver.Chrome(path_to_driver) #Path to your Chrome driver"
   ]
  },
  {
   "cell_type": "markdown",
   "metadata": {},
   "source": [
    "\n",
    "To open a Firefox window, the command is almost identical:"
   ]
  },
  {
   "cell_type": "code",
   "execution_count": null,
   "metadata": {
    "collapsed": true
   },
   "outputs": [],
   "source": [
    "webdriver.Firefox() #Add the path to your firefox driver"
   ]
  },
  {
   "cell_type": "markdown",
   "metadata": {},
   "source": [
    "Please close both browser windows manually again. \n",
    "\n",
    "The promise of this tutorial was that the computer would browse the web without your interaction. Yet, you were just asked to close two browser windows. Not to worry, the program can also close browser windows (or open new tabs and the like). However, for it to be able to do that, we have to give the browser window a name. Once it has a name, we can tell the program which browser window to work on. \n",
    "\n",
    "To see this, please run the following code. What will happen is that a new Chrome window opens. We call this window \"my_chrome\". The programm will then wait for 5 seconds before it closes the \"my_chrome\"-window again."
   ]
  },
  {
   "cell_type": "code",
   "execution_count": 9,
   "metadata": {},
   "outputs": [],
   "source": [
    "my_chrome = webdriver.Chrome(path_to_driver)\n",
    "sleep(5)\n",
    "my_chrome.close()"
   ]
  },
  {
   "cell_type": "markdown",
   "metadata": {},
   "source": [
    "#### Basic navigation\n",
    "\n",
    "So far, so spooky. Now let's have the programme go to our GPO website. \n",
    "\n",
    "First, we open a new browser window again:"
   ]
  },
  {
   "cell_type": "code",
   "execution_count": 12,
   "metadata": {},
   "outputs": [],
   "source": [
    "gpo=webdriver.Chrome(path_to_driver)"
   ]
  },
  {
   "cell_type": "markdown",
   "metadata": {},
   "source": [
    "Now, we tell the programme to get the GPO's link into that browser window:"
   ]
  },
  {
   "cell_type": "code",
   "execution_count": 13,
   "metadata": {},
   "outputs": [],
   "source": [
    "gpo.get(\"http://www.gpo.gov/fdsys/browse/collection.action?collectionCode=CHRG\")"
   ]
  },
  {
   "cell_type": "markdown",
   "metadata": {},
   "source": [
    "<b>Your turn:</b><br>Let the browser now move to a website of your choice:"
   ]
  },
  {
   "cell_type": "code",
   "execution_count": null,
   "metadata": {
    "collapsed": true
   },
   "outputs": [],
   "source": [
    "gpo.get(\"enter your link here\")"
   ]
  },
  {
   "cell_type": "markdown",
   "metadata": {},
   "source": [
    "Getting to a page is nice, but we also want to interact with that page. Recall that the browser sees this page as a series of tags. Selenium refers to these tags as \"elements\" on the page. What we have to do then is direct the program at the page element we want to interact with. This is where the XPath language we learnt above comes in. But before we get back to that, let's look at a more intuitive way to interact.\n",
    "\n",
    "In Selenium, it's not strictly necessary to know each and every element by its XPath. While XPath is the most precise way to get where want, there are less general, but more user-friendly ways as well. For instance, the Selenium package includes a function that searches the webpage for elements containing a certain piece of text. \n",
    "\n",
    "Say, I want to start browsing the Hearings of the 155th Congress. First, let's return to that page again:"
   ]
  },
  {
   "cell_type": "code",
   "execution_count": null,
   "metadata": {
    "collapsed": true
   },
   "outputs": [],
   "source": [
    "gpo.get(\"http://www.gpo.gov/fdsys/browse/collection.action?collectionCode=CHRG\")"
   ]
  },
  {
   "cell_type": "markdown",
   "metadata": {},
   "source": [
    "To locate the link we want to click on, we have to supply a unique piece of text to the programme. Let's use \"115th Congress\". \n",
    "\n",
    "We also want to store the location of this element so we can use it in later commands. The logic is the same as with naming our browser window \"my_fox\" or \"gpo\". Once we assign a name to the element, we can ask the program to use it in later applications. For this example, we call the location \"congress_115\"."
   ]
  },
  {
   "cell_type": "code",
   "execution_count": 14,
   "metadata": {},
   "outputs": [],
   "source": [
    "congress_115=gpo.find_element_by_partial_link_text(\"115th Congress\")"
   ]
  },
  {
   "cell_type": "markdown",
   "metadata": {},
   "source": [
    "Now that the program knows element, why not have it click on it?"
   ]
  },
  {
   "cell_type": "code",
   "execution_count": 15,
   "metadata": {},
   "outputs": [],
   "source": [
    "congress_115.click()"
   ]
  },
  {
   "cell_type": "markdown",
   "metadata": {},
   "source": [
    "And let's go look at the Hearings."
   ]
  },
  {
   "cell_type": "code",
   "execution_count": 16,
   "metadata": {},
   "outputs": [],
   "source": [
    "hearing=gpo.find_element_by_partial_link_text(\"House Hearings\")\n",
    "hearing.click()"
   ]
  },
  {
   "cell_type": "markdown",
   "metadata": {},
   "source": [
    "Oh, actually we meant the Senate Hearings; specifically those of the Appropriations Committee."
   ]
  },
  {
   "cell_type": "code",
   "execution_count": 17,
   "metadata": {},
   "outputs": [],
   "source": [
    "gpo.back()\n",
    "sleep(.5)\n",
    "\n",
    "hearing=gpo.find_element_by_partial_link_text(\"Senate Hearings\")\n",
    "hearing.click()\n",
    "sleep(.5)\n",
    "\n",
    "committee=gpo.find_element_by_partial_link_text(\"Appropriations\")\n",
    "committee.click()"
   ]
  },
  {
   "cell_type": "markdown",
   "metadata": {},
   "source": [
    "And now let's have a look at one of those texts. We will use the first one from the top. "
   ]
  },
  {
   "cell_type": "code",
   "execution_count": 18,
   "metadata": {},
   "outputs": [],
   "source": [
    "text= gpo.find_elements_by_partial_link_text(\"Text\")\n",
    "text[0].click()"
   ]
  },
  {
   "cell_type": "markdown",
   "metadata": {},
   "source": [
    "You can see how this is coming along nicely. But before we go on, please notice two things about the code we just executed. First, there is an extra \"s\" in the command \"``find_element``<b>s</b>``_by_partial_link_text``\". It was added to the command because the text we are looking for fits more than one element on the page. Our program would have been confused if we had used the command without the extra \"s\".\n",
    "\n",
    "The second point to note is the zero in the squared brackets. This is another Python convention. We see it for the first time in this tutorial. This, somewhat unintuitive convention says that lists in Python are number starting from zero. So the first list item is item zero and the tenth item would be item eleven. In order to click on the first element, we thus have to write \"[0]\". \n",
    "\n",
    "Back to our text. As you can see in your browser, the GPO provides transcripts of the Hearings as HTML documents including basic, unformatted text. This is good news for us since we do not have to worry about finding the text in a particular location on the page. Rather, we can download the whole page and store it into a text file. In the end, we will precisely do just that: ask our program to download and store the many HTML files that it finds behind all the \"Text\" links.\n",
    "\n",
    "There is one inconvenience between us and the conlusion of this tutorial right now: The Hearing text was opened in a new browser window. Before we can start storing individual text files, we need to get back to our original window. \n",
    "\n",
    "The way we can do this is allow the program to exploit the keyboard shortcuts of our browser. If you want to close a tab, you have two options: You can click on the \"x\" in its righthand corner. Or you can press \"CTRL + w\" on your keyboard (\"COMMAND + w\" for Macs). Our program is able to do just that as well.\n",
    "\n",
    "In the code below, we first ensure that the browser tab is active. We do this by having the program locate a tag that is inside the HTML we are looking at. Probably the most general tag in HTML world is the \"body\" tag. We will have our program search for this one. Now that we are sure that the program is looking at the browser tab we want to close, we will send the key combindation \"CTRL + w\" right to it."
   ]
  },
  {
   "cell_type": "code",
   "execution_count": 22,
   "metadata": {},
   "outputs": [],
   "source": [
    "gpo.find_element_by_tag_name('body').send_keys(Keys.CONTROL + 'w')"
   ]
  },
  {
   "cell_type": "markdown",
   "metadata": {},
   "source": [
    "Welcome back!<br>"
   ]
  },
  {
   "cell_type": "markdown",
   "metadata": {},
   "source": [
    "#### Storing the text\n",
    "\n",
    "Rather than opening the link under \"Text\", we want to store the HTML file it leads to onto our computer. Let's first look at this link once. Remember from our basic HTML above that the link is found in the \"href\" attribute of the ``<a>`` tag. To extract this link, we write:"
   ]
  },
  {
   "cell_type": "code",
   "execution_count": 23,
   "metadata": {},
   "outputs": [
    {
     "name": "stdout",
     "output_type": "stream",
     "text": [
      "https://www.gpo.gov/fdsys/pkg/CHRG-115shrg79104750/html/CHRG-115shrg79104750.htm\n"
     ]
    }
   ],
   "source": [
    "hearing_text_link = text[0].get_attribute('href')\n",
    "print(hearing_text_link)"
   ]
  },
  {
   "cell_type": "markdown",
   "metadata": {},
   "source": [
    "Notice that the extracted link ends with \".htm\", the file extension for HTML files (another one is \".html\"). What we thus have in front of us is the path to an HTML file of the Hearing transcript. What is left to do is to use this link, ask our programme to download the \".htm\" file and convert it into a text file (\".txt\"). Converting the HTML file into the text file is very easy thanks to the inexistent page formatting used by the GPO to display the transcripts. All we have to do is change the ending of the file from \".htm\" to \".txt\".\n",
    "\n",
    "The last package we loaded at the start of this tutorial, urllib, will do exactly that. All that we have left to do then is to set the file name which we want to use. "
   ]
  },
  {
   "cell_type": "code",
   "execution_count": 28,
   "metadata": {},
   "outputs": [],
   "source": [
    "file_name=\"my first file.txt\"\n",
    "r = requests.get(hearing_text_link)\n",
    "with open(file_name, 'wb') as outfile:\n",
    "    outfile.write(r.content)"
   ]
  },
  {
   "cell_type": "markdown",
   "metadata": {},
   "source": [
    "That's it! Our program just learned how to download its first Hearing transcript! The program will have to do it many times over in order to store all the Hearings that we can find online. But before we get to do that, let's first close the browser window again:"
   ]
  },
  {
   "cell_type": "code",
   "execution_count": null,
   "metadata": {
    "collapsed": true
   },
   "outputs": [],
   "source": [
    "gpo.quit()"
   ]
  },
  {
   "cell_type": "markdown",
   "metadata": {
    "collapsed": true
   },
   "source": []
  }
 ],
 "metadata": {
  "anaconda-cloud": {},
  "kernelspec": {
   "display_name": "Python 3",
   "language": "python",
   "name": "python3"
  },
  "language_info": {
   "codemirror_mode": {
    "name": "ipython",
    "version": 3
   },
   "file_extension": ".py",
   "mimetype": "text/x-python",
   "name": "python",
   "nbconvert_exporter": "python",
   "pygments_lexer": "ipython3",
   "version": "3.7.0"
  }
 },
 "nbformat": 4,
 "nbformat_minor": 1
}
